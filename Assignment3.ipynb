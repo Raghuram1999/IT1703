{
  "nbformat": 4,
  "nbformat_minor": 0,
  "metadata": {
    "colab": {
      "provenance": [],
      "authorship_tag": "ABX9TyNkk2C7JKaXzW/9l+28SpNr",
      "include_colab_link": true
    },
    "kernelspec": {
      "name": "python3",
      "display_name": "Python 3"
    },
    "language_info": {
      "name": "python"
    }
  },
  "cells": [
    {
      "cell_type": "markdown",
      "metadata": {
        "id": "view-in-github",
        "colab_type": "text"
      },
      "source": [
        "<a href=\"https://colab.research.google.com/github/Raghuram1999/IT1703/blob/main/Assignment3.ipynb\" target=\"_parent\"><img src=\"https://colab.research.google.com/assets/colab-badge.svg\" alt=\"Open In Colab\"/></a>"
      ]
    },
    {
      "cell_type": "code",
      "source": [
        "import pandas as pd\n",
        "\n",
        "# Load the dataset\n",
        "file_path = '/content/stroke.csv'\n",
        "data = pd.read_csv(file_path)\n"
      ],
      "metadata": {
        "id": "a5R5zqnqORZf"
      },
      "execution_count": 1,
      "outputs": []
    },
    {
      "cell_type": "code",
      "source": [
        "# Check for missing values\n",
        "missing_values = data.isnull().sum()\n",
        "\n",
        "# Fill or drop missing values as appropriate\n",
        "data = data.dropna()\n"
      ],
      "metadata": {
        "id": "qUd5tsg1PqZv"
      },
      "execution_count": 2,
      "outputs": []
    },
    {
      "cell_type": "code",
      "source": [
        "from sklearn.preprocessing import LabelEncoder\n",
        "\n",
        "labelencoder = LabelEncoder()\n",
        "for column in data.select_dtypes(include=['object']).columns:\n",
        "    data[column] = labelencoder.fit_transform(data[column])\n"
      ],
      "metadata": {
        "id": "TvjSOpT3Pt7j"
      },
      "execution_count": 3,
      "outputs": []
    },
    {
      "cell_type": "code",
      "source": [
        "# Splitting the data into features and target\n",
        "X = data.drop(columns=['stroke'])\n",
        "y = data['stroke']"
      ],
      "metadata": {
        "id": "VgAXXae4eJb8"
      },
      "execution_count": 11,
      "outputs": []
    },
    {
      "cell_type": "code",
      "source": [
        "from sklearn.preprocessing import StandardScaler\n",
        "\n",
        "# Normalizing the data\n",
        "scaler = StandardScaler()\n",
        "X_scaled = scaler.fit_transform(X)\n",
        "\n",
        "# Convert the scaled data back to a DataFrame\n",
        "X_scaled = pd.DataFrame(X_scaled, columns=X.columns)"
      ],
      "metadata": {
        "id": "TiGgzlLjPxd5"
      },
      "execution_count": 13,
      "outputs": []
    },
    {
      "cell_type": "code",
      "source": [
        "from sklearn.model_selection import train_test_split\n",
        "from sklearn.linear_model import LogisticRegression\n",
        "from sklearn.ensemble import RandomForestClassifier\n",
        "from sklearn.svm import SVC\n",
        "\n",
        "from sklearn.metrics import classification_report, roc_auc_score\n",
        "from imblearn.over_sampling import SMOTE\n",
        "from sklearn.preprocessing import StandardScaler, LabelEncoder\n",
        "\n",
        "# Handling class imbalance using SMOTE\n",
        "smote = SMOTE(random_state=42)\n",
        "X_resampled, y_resampled = smote.fit_resample(X_scaled, y)\n",
        "\n",
        "# Splitting the data into train and test sets\n",
        "X_train, X_test, y_train, y_test = train_test_split(X_resampled, y_resampled, test_size=0.2, random_state=42)\n",
        "\n",
        "# Logistic Regression with increased iterations\n",
        "log_reg = LogisticRegression(max_iter=200, solver='lbfgs')\n",
        "log_reg.fit(X_train, y_train)\n",
        "y_pred_log_reg = log_reg.predict(X_test)\n",
        "log_reg_report = classification_report(y_test, y_pred_log_reg, zero_division=1)\n",
        "log_reg_auc = roc_auc_score(y_test, y_pred_log_reg)\n",
        "\n",
        "# Random Forest\n",
        "rf = RandomForestClassifier()\n",
        "rf.fit(X_train, y_train)\n",
        "y_pred_rf = rf.predict(X_test)\n",
        "rf_report = classification_report(y_test, y_pred_rf, zero_division=1)\n",
        "rf_auc = roc_auc_score(y_test, y_pred_rf)\n",
        "\n",
        "# Support Vector Machine\n",
        "svc = SVC(probability=True)\n",
        "svc.fit(X_train, y_train)\n",
        "y_pred_svc = svc.predict(X_test)\n",
        "svc_report = classification_report(y_test, y_pred_svc, zero_division=1)\n",
        "svc_auc = roc_auc_score(y_test, y_pred_svc)\n",
        "\n",
        "# Displaying the results\n",
        "print(\"Logistic Regression Report:\\n\", log_reg_report)\n",
        "print(\"Random Forest Report:\\n\", rf_report)\n",
        "print(\"Support Vector Machine Report:\\n\", svc_report)\n",
        "print(\"Logistic Regression AUC: \", log_reg_auc)\n",
        "print(\"Random Forest AUC: \", rf_auc)\n",
        "print(\"Support Vector Machine AUC: \", svc_auc)"
      ],
      "metadata": {
        "colab": {
          "base_uri": "https://localhost:8080/"
        },
        "id": "YCXSA9nKP2N_",
        "outputId": "e2c669ff-1aef-4040-ad3c-d0da2a2d94c0"
      },
      "execution_count": 14,
      "outputs": [
        {
          "output_type": "stream",
          "name": "stdout",
          "text": [
            "Logistic Regression Report:\n",
            "               precision    recall  f1-score   support\n",
            "\n",
            "           0       0.80      0.76      0.78       922\n",
            "           1       0.78      0.81      0.79       958\n",
            "\n",
            "    accuracy                           0.79      1880\n",
            "   macro avg       0.79      0.79      0.79      1880\n",
            "weighted avg       0.79      0.79      0.79      1880\n",
            "\n",
            "Random Forest Report:\n",
            "               precision    recall  f1-score   support\n",
            "\n",
            "           0       0.98      0.97      0.98       922\n",
            "           1       0.98      0.99      0.98       958\n",
            "\n",
            "    accuracy                           0.98      1880\n",
            "   macro avg       0.98      0.98      0.98      1880\n",
            "weighted avg       0.98      0.98      0.98      1880\n",
            "\n",
            "Support Vector Machine Report:\n",
            "               precision    recall  f1-score   support\n",
            "\n",
            "           0       0.92      0.82      0.87       922\n",
            "           1       0.84      0.94      0.89       958\n",
            "\n",
            "    accuracy                           0.88      1880\n",
            "   macro avg       0.88      0.88      0.88      1880\n",
            "weighted avg       0.88      0.88      0.88      1880\n",
            "\n",
            "Logistic Regression AUC:  0.7850807675064194\n",
            "Random Forest AUC:  0.979677926265403\n",
            "Support Vector Machine AUC:  0.8776192266064061\n"
          ]
        }
      ]
    }
  ]
}